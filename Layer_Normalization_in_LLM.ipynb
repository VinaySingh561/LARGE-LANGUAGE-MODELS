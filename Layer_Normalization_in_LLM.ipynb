{
  "nbformat": 4,
  "nbformat_minor": 0,
  "metadata": {
    "colab": {
      "provenance": [],
      "authorship_tag": "ABX9TyPaiAOqybYKSYD/JdgcZKt9",
      "include_colab_link": true
    },
    "kernelspec": {
      "name": "python3",
      "display_name": "Python 3"
    },
    "language_info": {
      "name": "python"
    }
  },
  "cells": [
    {
      "cell_type": "markdown",
      "metadata": {
        "id": "view-in-github",
        "colab_type": "text"
      },
      "source": [
        "<a href=\"https://colab.research.google.com/github/VinaySingh561/LARGE-LANGUAGE-MODELS/blob/main/Layer_Normalization_in_LLM.ipynb\" target=\"_parent\"><img src=\"https://colab.research.google.com/assets/colab-badge.svg\" alt=\"Open In Colab\"/></a>"
      ]
    },
    {
      "cell_type": "code",
      "execution_count": 9,
      "metadata": {
        "colab": {
          "base_uri": "https://localhost:8080/"
        },
        "id": "hoK4YOx7mqIA",
        "outputId": "7844994c-7f6e-42d4-f5f1-1fbdb4ec9f81"
      },
      "outputs": [
        {
          "output_type": "stream",
          "name": "stdout",
          "text": [
            "tensor([[0.2260, 0.3470, 0.0000, 0.2216, 0.0000, 0.0000],\n",
            "        [0.2133, 0.2394, 0.0000, 0.5198, 0.3297, 0.0000]],\n",
            "       grad_fn=<ReluBackward0>)\n"
          ]
        }
      ],
      "source": [
        "import torch\n",
        "import torch.nn as nn\n",
        "torch.manual_seed(123)\n",
        "input  = torch.randn(2,5)\n",
        "layer = nn.Sequential(nn.Linear(5,6),nn.ReLU())\n",
        "out = layer(input)\n",
        "print(out)"
      ]
    },
    {
      "cell_type": "code",
      "source": [
        "mean  = out.mean(dim=-1, keepdim = True)\n",
        "var = out.var(dim=-1, keepdim = True)\n",
        "print(\"Mean : \\n\",mean)\n",
        "print(\"Variance : \\n\",var)"
      ],
      "metadata": {
        "colab": {
          "base_uri": "https://localhost:8080/"
        },
        "id": "MN5BHVG9oNGv",
        "outputId": "a4f2823a-50f4-40b0-ee9e-816f0653f638"
      },
      "execution_count": 10,
      "outputs": [
        {
          "output_type": "stream",
          "name": "stdout",
          "text": [
            "Mean : \n",
            " tensor([[0.1324],\n",
            "        [0.2170]], grad_fn=<MeanBackward1>)\n",
            "Variance : \n",
            " tensor([[0.0231],\n",
            "        [0.0398]], grad_fn=<VarBackward0>)\n"
          ]
        }
      ]
    },
    {
      "cell_type": "code",
      "source": [
        "out_norm  = (out-mean)/var.sqrt()\n",
        "print(out_norm)"
      ],
      "metadata": {
        "colab": {
          "base_uri": "https://localhost:8080/"
        },
        "id": "0FL0TUaxoqim",
        "outputId": "21534b03-7e08-4105-82dd-d4fbdff635a5"
      },
      "execution_count": 12,
      "outputs": [
        {
          "output_type": "stream",
          "name": "stdout",
          "text": [
            "tensor([[ 0.6159,  1.4126, -0.8719,  0.5872, -0.8719, -0.8719],\n",
            "        [-0.0189,  0.1121, -1.0876,  1.5173,  0.5647, -1.0876]],\n",
            "       grad_fn=<DivBackward0>)\n"
          ]
        }
      ]
    },
    {
      "cell_type": "code",
      "source": [
        "torch.set_printoptions(sci_mode=False)\n",
        "print(\"Mean before layer normalization \\n \", mean)\n",
        "print(\"Mean after layer normalization \\n \",out_norm.mean(dim=-1, keepdim = True))\n",
        "print(\"Var before layer normalization \\n \", var)\n",
        "print(\"Var after layer normalization \\n \",out_norm.var(dim=-1, keepdim = True))"
      ],
      "metadata": {
        "colab": {
          "base_uri": "https://localhost:8080/"
        },
        "id": "PMvVdH9_pCg8",
        "outputId": "29383622-1584-4735-f004-df1e5a68410c"
      },
      "execution_count": 19,
      "outputs": [
        {
          "output_type": "stream",
          "name": "stdout",
          "text": [
            "Mean before layer normalization \n",
            "  tensor([[0.1324],\n",
            "        [0.2170]], grad_fn=<MeanBackward1>)\n",
            "Mean after layer normalization \n",
            "  tensor([[    0.0000],\n",
            "        [    0.0000]], grad_fn=<MeanBackward1>)\n",
            "Var before layer normalization \n",
            "  tensor([[0.0231],\n",
            "        [0.0398]], grad_fn=<VarBackward0>)\n",
            "Var after layer normalization \n",
            "  tensor([[1.0000],\n",
            "        [1.0000]], grad_fn=<VarBackward0>)\n"
          ]
        }
      ]
    },
    {
      "cell_type": "code",
      "source": [
        "class Layernorm(nn.Module):\n",
        "  def __init__(self, emb_dim):\n",
        "    super().__init__()\n",
        "    self.eps = 1e-5\n",
        "    self.scale = nn.Parameter(torch.ones(emb_dim))\n",
        "    self.shift = nn.Parameter(torch.zeros(emb_dim))\n",
        "\n",
        "  def forward(self,x):\n",
        "    mean = x.mean(dim=-1, keepdim  = True)\n",
        "    var = x.var(dim=-1, keepdim = True, unbiased = False) ## unbiased -->> Bessel Correction\n",
        "    out = (x - mean)/torch.sqrt(var + self.eps)\n",
        "    return self.scale*out + self.shift"
      ],
      "metadata": {
        "id": "xplFzlPapdwF"
      },
      "execution_count": 25,
      "outputs": []
    },
    {
      "cell_type": "code",
      "source": [
        "def mean_var(inputs):\n",
        "  mean  = inputs.mean(dim=-1,keepdim = True)\n",
        "  var = inputs.var(dim=-1, keepdim = True,unbiased = False)\n",
        "  return mean, var"
      ],
      "metadata": {
        "id": "HXHCDtn221NF"
      },
      "execution_count": 28,
      "outputs": []
    },
    {
      "cell_type": "code",
      "source": [
        "input = torch.randn(2,5)\n",
        "emb_dim = input.shape[1]\n",
        "Layernormalization = Layernorm(emb_dim)\n",
        "Normalized_output = Layernormalization(input)\n",
        "print(\" Mean and Variance before Normalization : \\n\",mean_var(input) )\n",
        "print(\" Mean and Variance after  Normalization : \\n\", mean_var(Normalized_output))"
      ],
      "metadata": {
        "colab": {
          "base_uri": "https://localhost:8080/"
        },
        "id": "9cIc7dZs2Oum",
        "outputId": "1fcac363-1d9e-4f0c-950b-0ced94bf9786"
      },
      "execution_count": 29,
      "outputs": [
        {
          "output_type": "stream",
          "name": "stdout",
          "text": [
            " Mean and Variance before Normalization : \n",
            " (tensor([[-0.4793],\n",
            "        [ 0.0112]]), tensor([[2.4954],\n",
            "        [0.7209]]))\n",
            " Mean and Variance after  Normalization : \n",
            " (tensor([[    -0.0000],\n",
            "        [    -0.0000]], grad_fn=<MeanBackward1>), tensor([[1.0000],\n",
            "        [1.0000]], grad_fn=<VarBackward0>))\n"
          ]
        }
      ]
    },
    {
      "cell_type": "code",
      "source": [],
      "metadata": {
        "id": "8dV3OX6W3NgO"
      },
      "execution_count": null,
      "outputs": []
    }
  ]
}