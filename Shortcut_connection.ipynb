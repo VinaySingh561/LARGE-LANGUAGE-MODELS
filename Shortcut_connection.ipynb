{
  "nbformat": 4,
  "nbformat_minor": 0,
  "metadata": {
    "colab": {
      "provenance": [],
      "authorship_tag": "ABX9TyO/QIZdikVwz/edKd7J88u9",
      "include_colab_link": true
    },
    "kernelspec": {
      "name": "python3",
      "display_name": "Python 3"
    },
    "language_info": {
      "name": "python"
    }
  },
  "cells": [
    {
      "cell_type": "markdown",
      "metadata": {
        "id": "view-in-github",
        "colab_type": "text"
      },
      "source": [
        "<a href=\"https://colab.research.google.com/github/VinaySingh561/LARGE-LANGUAGE-MODELS/blob/main/Shortcut_connection.ipynb\" target=\"_parent\"><img src=\"https://colab.research.google.com/assets/colab-badge.svg\" alt=\"Open In Colab\"/></a>"
      ]
    },
    {
      "cell_type": "code",
      "execution_count": 1,
      "metadata": {
        "id": "tbTh2K2NRBQj"
      },
      "outputs": [],
      "source": [
        "import torch\n",
        "import torch.nn as nn"
      ]
    },
    {
      "cell_type": "code",
      "source": [
        "class GELU(nn.Module):\n",
        "  def __init__(self):\n",
        "    super().__init__()\n",
        "\n",
        "  def forward(self,x):\n",
        "    return 0.5 * x * (1 + torch.tanh(\n",
        "        torch.sqrt(torch.tensor(2.0/torch.pi))*\n",
        "        (x + 0.044715*torch.pow(x,3))\n",
        "    ))\n"
      ],
      "metadata": {
        "id": "bouFRPdCRM16"
      },
      "execution_count": 2,
      "outputs": []
    },
    {
      "cell_type": "code",
      "source": [
        "class DeepNeuralNetworkSkip(nn.Module):\n",
        "  def __init__(self,layers_shape, shortcut_connection):\n",
        "    super().__init__()\n",
        "    self.shortcut_connection = shortcut_connection\n",
        "    self.layers = nn.ModuleList([\n",
        "    nn.Sequential(nn.Linear(layers_shape[0],layers_shape[1]),GELU()),\n",
        "    nn.Sequential(nn.Linear(layers_shape[1],layers_shape[2]),GELU()),\n",
        "    nn.Sequential(nn.Linear(layers_shape[2],layers_shape[3]),GELU()),\n",
        "    nn.Sequential(nn.Linear(layers_shape[3],layers_shape[4]),GELU()),\n",
        "    nn.Sequential(nn.Linear(layers_shape[4],layers_shape[5]),GELU())\n",
        "    ])\n",
        "\n",
        "\n",
        "  def forward(self,x):\n",
        "    for layer in self.layers:\n",
        "      layer_output = layer(x)\n",
        "      if self.shortcut_connection and x.shape == layer_output.shape:\n",
        "        x = layer_output + x\n",
        "      else:\n",
        "        x = layer_output\n",
        "    return x\n"
      ],
      "metadata": {
        "id": "-XSGrh3LRQUn"
      },
      "execution_count": 13,
      "outputs": []
    },
    {
      "cell_type": "code",
      "source": [
        "layer_sizes = [3,3,3,3,3,1]\n",
        "sample_input = torch.tensor([[0.1,0.23,-1.49]])\n",
        "torch.manual_seed(123)\n",
        "model_without_shortcut = DeepNeuralNetworkSkip(layer_sizes,False)\n"
      ],
      "metadata": {
        "id": "aMjb1dnLS7nI"
      },
      "execution_count": 21,
      "outputs": []
    },
    {
      "cell_type": "code",
      "source": [
        "def print_gradient(model,x):\n",
        "  output = model(x)\n",
        "  target  = torch.tensor([[3.9]])\n",
        "\n",
        "  loss = nn.MSELoss()\n",
        "  loss = loss(output, target)\n",
        "\n",
        "  loss.backward()\n",
        "\n",
        "  for name, param in model.named_parameters():\n",
        "    if \"weight\" in name:\n",
        "      print(f\"{name} has gradient mean of {param.grad.abs().mean().item()}\")"
      ],
      "metadata": {
        "id": "uo8GwzrNTb1s"
      },
      "execution_count": 22,
      "outputs": []
    },
    {
      "cell_type": "code",
      "source": [
        "print_gradient(model_without_shortcut,sample_input)"
      ],
      "metadata": {
        "colab": {
          "base_uri": "https://localhost:8080/"
        },
        "id": "BdSYCF0jUexP",
        "outputId": "4bacbce2-7857-4cf0-fdec-5634f1809e29"
      },
      "execution_count": 23,
      "outputs": [
        {
          "output_type": "stream",
          "name": "stdout",
          "text": [
            "layers.0.0.weight has gradient mean of 0.014931912533938885\n",
            "layers.1.0.weight has gradient mean of 0.019653478637337685\n",
            "layers.2.0.weight has gradient mean of 0.06316769868135452\n",
            "layers.3.0.weight has gradient mean of 0.07992622256278992\n",
            "layers.4.0.weight has gradient mean of 0.2909848392009735\n"
          ]
        }
      ]
    },
    {
      "cell_type": "code",
      "source": [
        "torch.manual_seed(123)\n",
        "model_with_shortcut = DeepNeuralNetworkSkip(layer_sizes,True)"
      ],
      "metadata": {
        "id": "i2CZvYUNUmc7"
      },
      "execution_count": 24,
      "outputs": []
    },
    {
      "cell_type": "code",
      "source": [
        "print_gradient(model_with_shortcut,sample_input)"
      ],
      "metadata": {
        "colab": {
          "base_uri": "https://localhost:8080/"
        },
        "id": "o9w2gzaHU1Vc",
        "outputId": "6cc67690-6dc1-41d0-d6b1-e7f476b6521f"
      },
      "execution_count": 25,
      "outputs": [
        {
          "output_type": "stream",
          "name": "stdout",
          "text": [
            "layers.0.0.weight has gradient mean of 0.9692482352256775\n",
            "layers.1.0.weight has gradient mean of 0.7377116680145264\n",
            "layers.2.0.weight has gradient mean of 0.9747352600097656\n",
            "layers.3.0.weight has gradient mean of 1.3277825117111206\n",
            "layers.4.0.weight has gradient mean of 5.3807454109191895\n"
          ]
        }
      ]
    },
    {
      "cell_type": "code",
      "source": [],
      "metadata": {
        "id": "7mLGn0XLU3aJ"
      },
      "execution_count": null,
      "outputs": []
    }
  ]
}